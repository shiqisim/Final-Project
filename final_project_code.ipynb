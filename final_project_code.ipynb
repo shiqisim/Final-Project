{
  "nbformat": 4,
  "nbformat_minor": 0,
  "metadata": {
    "colab": {
      "provenance": [],
      "authorship_tag": "ABX9TyMXUDmHEnI++OFOD9HK9W5S",
      "include_colab_link": true
    },
    "kernelspec": {
      "name": "python3",
      "display_name": "Python 3"
    },
    "language_info": {
      "name": "python"
    }
  },
  "cells": [
    {
      "cell_type": "markdown",
      "metadata": {
        "id": "view-in-github",
        "colab_type": "text"
      },
      "source": [
        "<a href=\"https://colab.research.google.com/github/shiqisim/Final-Project/blob/main/final_project_code.ipynb\" target=\"_parent\"><img src=\"https://colab.research.google.com/assets/colab-badge.svg\" alt=\"Open In Colab\"/></a>"
      ]
    },
    {
      "cell_type": "markdown",
      "source": [
        "# Machine Learning and Neural Networks: Deep Learning on a public dataset\n"
      ],
      "metadata": {
        "id": "-kEhqvGlKdf-"
      }
    },
    {
      "cell_type": "markdown",
      "source": [
        "#1. Introduction\n"
      ],
      "metadata": {
        "id": "xqCE-UBOEzNU"
      }
    },
    {
      "cell_type": "markdown",
      "source": [
        "Breast cancer is a common disease that has affected numerous women around the world. It is often not easy to detect if one has breast cancer in the early stages as there may not be any symptoms. Hence, it is important for early detection to occur to prevent further deaths. This disease happens when there is lining cells of the ducts or lobules in the glandular tissue of the breast [1]. This type of cancer has a high treatment rate if detected early and before the cancerous cells spread to the other parts of the body.\n",
        "\n",
        "In 2020, 2.3 million women were diagnosed with breast cancer and there were 685000 deaths around the world. This reflects how common this type of cancer is as it could occur at any age after puberty for women. Males could contract breast cancer too, but such cases are significantly lesser than the probability of a female contracting it. Statistics have shown how the survival rate of breast cancer for at least five years are more than 90% in high income countries, 66% in India and 40% in South Africa [1]. As a result, this project seeks to develop a deep learning model to assist the lower income countries with detecting the risk of one contracting breast cancer and to get treatment earlier. Healthcare systems should also be put in place in managing breast cancer cases through ‘referral pathways World Health Organisation [2021]’ to ease the complications surrounding it.\n",
        "\n",
        "The aim of this project is to develop a deep learning model that explores multiple algorithms for predicting whether one is at a risk of getting breast cancer and to implement the best algorithm. For example, Convolutional Neural Networks (CNN), Artificial Neural Network (ANN) and Residual Neural Network (RNN). Subsequently, it should also classify, detect and conduct segmentation on the breast ultrasound images for predicting breast cancer, as well as perform evaluation on the different machine learning models.\n",
        "The objectives would be to develop an original model with suitable depth, deliver a clear and concise analysis that is well documented, as well as an evaluation on the different models created."
      ],
      "metadata": {
        "id": "Upqh8Lg6IhjM"
      }
    },
    {
      "cell_type": "markdown",
      "source": [
        "#2. Defining the problem and assembling a dataset"
      ],
      "metadata": {
        "id": "qMEOwgLGKr6W"
      }
    },
    {
      "cell_type": "markdown",
      "source": [
        "This dataset, \"\"(Kaggle,) includes the medical images of breast cancer from ultrasound scans and it is categorised into three classes. They are malignant, benign and normal images. This data was collected in 2018 and the patients are aged between 25 and 75 years old and there are 600 person in total. The dataset consists of 780 images with an average image size of 500*500 pixels and in PNG format. The ground truth images are presented with original images. Hence, I would like to explore and perform segmentation of the ultrasound images to predict whether one has breast cancer. The data availability is sufficient for me to conduct segmentation of the images based on the three classes. The ground truth accuracy was also verified by the radiologists from Baheya and the incorrect annotation was fixed.\n",
        "\n",
        "The problem about this dataset, however, is that it is a multi-class segmentation with single-label classification and the data is imbalanced. Thus, for the last-layer activation, I would be using 'softmax' and 'categorical_crossentropy' for the loss function. The input features would be all the images from the benign, normal and malignant class and the output would be the predictions of image that has been converted from categorical to numerical data using the one hot encoding technique. To resolve the imbalanced issue, class weights would be added during training.\n"
      ],
      "metadata": {
        "id": "ykHuy_TcIbjM"
      }
    },
    {
      "cell_type": "markdown",
      "source": [
        "#3. Choosing a measure of success"
      ],
      "metadata": {
        "id": "3PvNxGeqKt30"
      }
    },
    {
      "cell_type": "markdown",
      "source": [
        "The metric of success for this model would be precision, recall, balanced accuracy score and f1-score. 'Precision is a metric that quantifies the number of correct positive predictions made.' (https://machinelearningmastery.com/precision-recall-and-f-measure-for-imbalanced-classification/) 'It is calculated as the ratio of correctly predicted positive examples divided by the total number of positive examples that were predicted.' (https://machinelearningmastery.com/precision-recall-and-f-measure-for-imbalanced-classification/) As for recall, it is 'a metric that quantifies the number of correct positive predictions made out of all positive predictions that could have been made' (https://machinelearningmastery.com/precision-recall-and-f-measure-for-imbalanced-classification/) It 'provides an indication of missed positive predictions' (https://machinelearningmastery.com/precision-recall-and-f-measure-for-imbalanced-classification/) which is often 'used to measure the coverage of the minority class' (Page 27, Imbalanced Learning: Foundations, Algorithms, and Applications, 2013.). These two metrics are chosen with reference to the Deep Learning with Python book whereby it was stated that 'For\n",
        "class-imbalanced problems, you can use precision and recall.' With  cross-validation with another source, it is evident that these two metrics are often used in classification models. (Javatpoint, no date)\n",
        "\n",
        "Additionally, the balanced accuracy sccore is chosen as it is widely used in multiclass classification and issues of an imbalanced dataset. The definition for it is calculated as the average of recall in each class. Lastly, the f1-measure is selected as a metric in this project as it can 'combine both precision and recall into a single measure that captures both properties' (https://machinelearningmastery.com/precision-recall-and-f-measure-for-imbalanced-classification/). 'The F1-measure, which weights precision and recall equally, is the variant most often used when learning from imbalanced data.' Hence, this shows that this metric is useful for this imbalanced dataset and would aid me in the evaluation process. To determine the results of the metric, the best result would be defined as 1.0 and the worst would be 0.0."
      ],
      "metadata": {
        "id": "1YPaS6F9pQv9"
      }
    },
    {
      "cell_type": "markdown",
      "source": [
        "#4. Deciding on an evaluation protocol"
      ],
      "metadata": {
        "id": "XPFwPN1XKuC6"
      }
    },
    {
      "cell_type": "markdown",
      "source": [
        "The evaluation protocols that I had chosen for this project would be maintaining a hold-out validation set and doing K-fold cross-validation. 'Hold-out is when you split up your dataset into a 'train' and 'test' set.' (https://medium.com/@jaz1/holdout-vs-cross-validation-in-machine-learning-7637112d3f8f) 'The training set is what the model is trained on, and the test set is used to see how well that model performs on unseen data. ' (https://medium.com/@jaz1/holdout-vs-cross-validation-in-machine-learning-7637112d3f8f) The splitting of the training and testing set would be '80% of data for training and the remaining 20% of the data for testing' (https://medium.com/@jaz1/holdout-vs-cross-validation-in-machine-learning-7637112d3f8f)\n",
        "\n",
        "On the other hand, for K-fold cross-validation, 'the procedure has a single parameter called k that refers to the number of groups that a given data sample is to be split into'. (https://machinelearningmastery.com/k-fold-cross-validation/) I have chosen this method as it is stated that it is 'simple to understand and because it generally results in a less biased or less optimistic estimate of the model skill than other methods, such as a simple train/test split' (https://machinelearningmastery.com/k-fold-cross-validation/) In general, out of the groups, one would be used as test set whilst the reemaining would be the train set. 'The model is trained on the training set and scored on the test set.' (Eijaz, 2018)\n",
        "\n",
        "The advantage of using the K-fold cross validation is that it is useful for data that is limited and prevents overfitting. The disadvantage, however, would be that it is computationally intensive as it will train and test the model continuously. For hold-out validation, the advantage would be that it has lesser computation costs, good for large datasets and building of first model. The disadvantage would be that it is highly dependent on the train and test split unlike the cross-validation methods which can train on 'multiple train-test splits' (https://medium.com/@jaz1/holdout-vs-cross-validation-in-machine-learning-7637112d3f8f).\n"
      ],
      "metadata": {
        "id": "rq4XVdzE8Op1"
      }
    },
    {
      "cell_type": "markdown",
      "source": [
        "#5. Preparing your data"
      ],
      "metadata": {
        "id": "6BzZxuvdGhu4"
      }
    },
    {
      "cell_type": "code",
      "source": [
        "pip install scikit-learn==1.1.2"
      ],
      "metadata": {
        "colab": {
          "base_uri": "https://localhost:8080/"
        },
        "id": "nlSjNl_FDTdE",
        "outputId": "9d12bde5-14a2-46af-de63-1cbd0b3da698"
      },
      "execution_count": 1,
      "outputs": [
        {
          "output_type": "stream",
          "name": "stdout",
          "text": [
            "Requirement already satisfied: scikit-learn==1.1.2 in /usr/local/lib/python3.10/dist-packages (1.1.2)\n",
            "Requirement already satisfied: numpy>=1.17.3 in /usr/local/lib/python3.10/dist-packages (from scikit-learn==1.1.2) (1.23.5)\n",
            "Requirement already satisfied: scipy>=1.3.2 in /usr/local/lib/python3.10/dist-packages (from scikit-learn==1.1.2) (1.10.1)\n",
            "Requirement already satisfied: joblib>=1.0.0 in /usr/local/lib/python3.10/dist-packages (from scikit-learn==1.1.2) (1.3.2)\n",
            "Requirement already satisfied: threadpoolctl>=2.0.0 in /usr/local/lib/python3.10/dist-packages (from scikit-learn==1.1.2) (3.2.0)\n"
          ]
        }
      ]
    },
    {
      "cell_type": "code",
      "source": [
        "!pip install scikeras"
      ],
      "metadata": {
        "colab": {
          "base_uri": "https://localhost:8080/"
        },
        "id": "vEMPmSCdfm_u",
        "outputId": "9528956b-c731-47a6-df5c-8a471f84c8b0"
      },
      "execution_count": 2,
      "outputs": [
        {
          "output_type": "stream",
          "name": "stdout",
          "text": [
            "Requirement already satisfied: scikeras in /usr/local/lib/python3.10/dist-packages (0.11.0)\n",
            "Requirement already satisfied: packaging>=0.21 in /usr/local/lib/python3.10/dist-packages (from scikeras) (23.1)\n",
            "Requirement already satisfied: scikit-learn>=1.0.0 in /usr/local/lib/python3.10/dist-packages (from scikeras) (1.1.2)\n",
            "Requirement already satisfied: numpy>=1.17.3 in /usr/local/lib/python3.10/dist-packages (from scikit-learn>=1.0.0->scikeras) (1.23.5)\n",
            "Requirement already satisfied: scipy>=1.3.2 in /usr/local/lib/python3.10/dist-packages (from scikit-learn>=1.0.0->scikeras) (1.10.1)\n",
            "Requirement already satisfied: joblib>=1.0.0 in /usr/local/lib/python3.10/dist-packages (from scikit-learn>=1.0.0->scikeras) (1.3.2)\n",
            "Requirement already satisfied: threadpoolctl>=2.0.0 in /usr/local/lib/python3.10/dist-packages (from scikit-learn>=1.0.0->scikeras) (3.2.0)\n"
          ]
        }
      ]
    },
    {
      "cell_type": "code",
      "source": [
        "import tensorflow as tf\n",
        "tf.version.VERSION"
      ],
      "metadata": {
        "colab": {
          "base_uri": "https://localhost:8080/",
          "height": 35
        },
        "id": "9_R2ZBgD8Cyb",
        "outputId": "3d900b07-36af-4885-ec0b-91c0f50dcfb7"
      },
      "execution_count": 3,
      "outputs": [
        {
          "output_type": "execute_result",
          "data": {
            "text/plain": [
              "'2.12.0'"
            ],
            "application/vnd.google.colaboratory.intrinsic+json": {
              "type": "string"
            }
          },
          "metadata": {},
          "execution_count": 3
        }
      ]
    },
    {
      "cell_type": "code",
      "source": [
        "import numpy as np\n",
        "import pandas as pd\n",
        "\n",
        "# mount gdrive, required for downloaded dataset (or sql data dump)\n",
        "import os\n",
        "from google.colab import drive\n",
        "drive.mount(\"/content/drive\")\n",
        "\n",
        "import tensorflow_datasets as tfds\n",
        "import matplotlib.pyplot as plt\n",
        "import itertools\n",
        "import cv2\n",
        "import tensorflow as tf\n",
        "\n",
        "from sklearn.model_selection import train_test_split\n",
        "from sklearn.preprocessing import OneHotEncoder\n",
        "\n",
        "from tensorflow import keras\n",
        "from tensorflow.keras.utils import load_img, img_to_array\n",
        "from tensorflow.keras.models import Sequential, clone_model\n",
        "from tensorflow.keras.models import Model\n",
        "from tensorflow.keras.layers import Conv2D\n",
        "from tensorflow.keras.layers import MaxPooling2D,AveragePooling2D,BatchNormalization\n",
        "from tensorflow.keras.layers import Dense,Activation\n",
        "from tensorflow.keras.layers import Flatten,Dropout,SpatialDropout2D,AveragePooling2D,GlobalAveragePooling2D\n",
        "from tensorflow.keras.layers import LSTM,Bidirectional,Reshape\n",
        "from tensorflow.keras.optimizers import SGD\n",
        "from tensorflow.keras.optimizers import Adam\n",
        "from tensorflow.keras.callbacks import EarlyStopping, ModelCheckpoint\n",
        "from tensorflow.keras.metrics import Precision, Recall, AUC\n",
        "\n",
        "from sklearn.pipeline import Pipeline\n",
        "from sklearn.svm import SVC\n",
        "from sklearn.ensemble import RandomForestClassifier\n",
        "from sklearn.ensemble import AdaBoostClassifier\n",
        "from sklearn.neighbors import KNeighborsClassifier\n",
        "from xgboost import XGBClassifier\n",
        "from sklearn.ensemble import BaggingClassifier\n",
        "from sklearn.neural_network import MLPClassifier\n",
        "from sklearn.utils.class_weight import compute_class_weight\n",
        "from sklearn.preprocessing import LabelEncoder\n",
        "from sklearn.model_selection import StratifiedKFold\n",
        "\n",
        "from sklearn.pipeline import Pipeline\n",
        "from sklearn.svm import SVC\n",
        "from sklearn.ensemble import RandomForestClassifier\n",
        "from sklearn.neighbors import KNeighborsClassifier\n",
        "from sklearn.neural_network import MLPClassifier\n",
        "from sklearn.metrics import accuracy_score,recall_score,precision_score,f1_score,roc_auc_score,confusion_matrix\n",
        "\n",
        "from PIL import Image\n",
        "\n",
        "device_name = tf.test.gpu_device_name()\n",
        "if len(device_name) > 0:\n",
        "    print(\"Found GPU at: {}\".format(device_name))\n",
        "else:\n",
        "    device_name = \"/device:CPU:0\"\n",
        "    print(\"No GPU, using {}.\".format(device_name))\n",
        "\n",
        "SEED = 270\n",
        "\n",
        "tf.random.set_seed(SEED)\n",
        "np.random.seed(SEED)\n",
        "\n",
        "import warnings\n",
        "warnings.filterwarnings('ignore')\n"
      ],
      "metadata": {
        "colab": {
          "base_uri": "https://localhost:8080/"
        },
        "id": "_EfT8WQZFd1K",
        "outputId": "e5d98ca4-c20f-48f9-8f9f-b0b492d41a82"
      },
      "execution_count": 4,
      "outputs": [
        {
          "output_type": "stream",
          "name": "stdout",
          "text": [
            "Drive already mounted at /content/drive; to attempt to forcibly remount, call drive.mount(\"/content/drive\", force_remount=True).\n",
            "No GPU, using /device:CPU:0.\n"
          ]
        }
      ]
    },
    {
      "cell_type": "code",
      "source": [
        "# project name\n",
        "os.environ[\"PROJECT_NAME\"] = \"breast-cancer\"\n",
        "\n",
        "# set folder paths in gdrive for the coursework\n",
        "os.environ[\"CODER_HOME\"] = \"/content\"\n",
        "os.environ[\"PROJECTS\"] = os.getenv(\"CODER_HOME\") + \"/project\"\n",
        "os.environ[\"PROJECT_HOME\"] = os.getenv(\"PROJECTS\") + \"/\" + os.getenv(\"PROJECT_NAME\")\n",
        "os.environ[\"DATA_PATH\"] = os.getenv(\"PROJECT_HOME\") + \"/data\"\n",
        "os.environ[\"SCRIPT_PATH\"] = os.getenv(\"PROJECT_HOME\") + \"/scripts\"\n",
        "\n",
        "# heirachically create project folders in local if not exist\n",
        "!mkdir -p $CODER_HOME\n",
        "!mkdir -p $PROJECTS\n",
        "!mkdir -p $PROJECT_HOME\n",
        "!mkdir -p $DATA_PATH\n",
        "!mkdir -p $SCRIPT_PATH\n",
        "\n",
        "# set folder paths on gdrive for the coursework\n",
        "os.environ[\"GD_COURSE_HOME\"] = \"/content/drive/MyDrive/data\"\n",
        "os.environ[\"GD_PROJECT_HOME\"] = os.getenv(\"GD_COURSE_HOME\") + \"/\" + os.getenv(\"PROJECT_NAME\")\n",
        "os.environ[\"GD_DATA_PATH\"] = os.getenv(\"GD_PROJECT_HOME\") + \"/data\"\n",
        "os.environ[\"GD_SCRIPT_PATH\"] = os.getenv(\"GD_PROJECT_HOME\") + \"/scripts\"\n",
        "\n",
        "# heirachically create project folders in gdrive if not exist\n",
        "!mkdir -p $GD_COURSE_HOME\n",
        "!mkdir -p $GD_PROJECT_HOME\n",
        "!mkdir -p $GD_DATA_PATH\n",
        "!mkdir -p $GD_SCRIPT_PATH"
      ],
      "metadata": {
        "id": "rUnsoh4PFiLI"
      },
      "execution_count": 5,
      "outputs": []
    },
    {
      "cell_type": "code",
      "source": [
        "!ls -d $PROJECT_HOME/*"
      ],
      "metadata": {
        "colab": {
          "base_uri": "https://localhost:8080/"
        },
        "id": "skn47tVDFikA",
        "outputId": "a81b88d1-2d70-4f3d-ee87-3d8d339b6899"
      },
      "execution_count": 6,
      "outputs": [
        {
          "output_type": "stream",
          "name": "stdout",
          "text": [
            "/content/project/breast-cancer/data  /content/project/breast-cancer/scripts\n"
          ]
        }
      ]
    },
    {
      "cell_type": "code",
      "source": [
        "# defining file path\n",
        "filePath = \"/content/drive/MyDrive/data/breast-cancer/Dataset_BUSI_with_GT\"\n",
        "\n",
        "# Get the list of image files\n",
        "image_files = []\n",
        "labels = []\n",
        "\n",
        "# Iterate over the directories\n",
        "for class_name in ['benign', 'malignant', 'normal']:\n",
        "    class_path = os.path.join(filePath, class_name)\n",
        "    for filename in os.listdir(class_path):\n",
        "        image_path = os.path.join(class_path, filename)\n",
        "        image_files.append(image_path)\n",
        "        labels.append(class_name)\n",
        "\n",
        "# Convert labels to numerical values\n",
        "from tensorflow.keras.utils import to_categorical\n",
        "\n",
        "# Convert labels to numerical values\n",
        "label_encoder = LabelEncoder()\n",
        "labels = label_encoder.fit_transform(labels)\n",
        "\n",
        "# Convert labels to one-hot encoded format\n",
        "labels = to_categorical(labels)\n"
      ],
      "metadata": {
        "id": "9ysrrgquFtKZ"
      },
      "execution_count": 7,
      "outputs": []
    },
    {
      "cell_type": "code",
      "source": [
        "print(labels.shape)\n",
        "print(len(image_files))"
      ],
      "metadata": {
        "colab": {
          "base_uri": "https://localhost:8080/"
        },
        "id": "6yRpJlM6FvUS",
        "outputId": "52269c9e-a3d5-4242-e1ad-bbff892cfe0c"
      },
      "execution_count": 8,
      "outputs": [
        {
          "output_type": "stream",
          "name": "stdout",
          "text": [
            "(1578, 3)\n",
            "1578\n"
          ]
        }
      ]
    },
    {
      "cell_type": "code",
      "source": [
        "X_train, X_test, y_train, y_test = train_test_split(image_files, labels, test_size=0.2, random_state=SEED, stratify=labels)\n",
        "# X_train, X_val, y_train, y_val = train_test_split(image_files, labels, test_size=0.25, random_state=42, stratify=labels)\n",
        "\n",
        "# X1_train,X_val,y1_train,y_val = train_test_split(X_train,y_train,test_size=0.1,random_state=42,stratify = labels)"
      ],
      "metadata": {
        "id": "4TzRYk73Fvxw"
      },
      "execution_count": 9,
      "outputs": []
    },
    {
      "cell_type": "markdown",
      "source": [],
      "metadata": {
        "id": "EMk1kahVjsqt"
      }
    },
    {
      "cell_type": "code",
      "source": [
        "print(len(X_train),len(y_train))\n",
        "print(len(X_test),len(y_test))"
      ],
      "metadata": {
        "colab": {
          "base_uri": "https://localhost:8080/"
        },
        "id": "ZWpZws-qFv7B",
        "outputId": "3bf24bb3-8078-4823-aaf3-2eed4aa2c43c"
      },
      "execution_count": 10,
      "outputs": [
        {
          "output_type": "stream",
          "name": "stdout",
          "text": [
            "1262 1262\n",
            "316 316\n"
          ]
        }
      ]
    },
    {
      "cell_type": "code",
      "source": [
        "# Define a function to load and preprocess the images\n",
        "def load_preprocess_image(image_path):\n",
        "    image = Image.open(image_path)\n",
        "    image = image.resize((150, 150))\n",
        "    image = image.convert('L')\n",
        "    image = np.array(image)\n",
        "    image = image.reshape((150, 150, 1))\n",
        "    image = image.astype('float32') / 255.0\n",
        "    return image\n",
        "\n",
        "\n",
        "X_train = [str(image_path) for image_path in X_train]\n",
        "X_test = [str(image_path) for image_path in X_test]\n",
        "\n",
        "# Load and preprocess the training images and labels\n",
        "X_train = [load_preprocess_image(image_path) for image_path in X_train]\n",
        "X_train = np.array(X_train)\n",
        "y_train= np.array(y_train)\n",
        "\n",
        "# Load and preprocess the testing images and labels\n",
        "X_test= [load_preprocess_image(image_path) for image_path in X_test]\n",
        "X_test = np.array(X_test)\n",
        "y_test = np.array(y_test)\n"
      ],
      "metadata": {
        "id": "hZHH5NJcFwFz"
      },
      "execution_count": 11,
      "outputs": []
    },
    {
      "cell_type": "code",
      "source": [
        "#remove unwanted dimension\n",
        "if X_train.shape[-1] == 1:\n",
        "    X_train = np.squeeze(X_train, axis = -1)\n",
        "print(X_train.shape, y_train.shape)\n",
        "\n",
        "if X_test.shape[-1] == 1:\n",
        "    X_test = np.squeeze(X_test, axis = -1)\n",
        "print(X_test.shape,y_test.shape)\n",
        "\n",
        "\n",
        "\n",
        "# print(type(X_train))"
      ],
      "metadata": {
        "id": "-g6_rrAFFwIz",
        "colab": {
          "base_uri": "https://localhost:8080/"
        },
        "outputId": "e1854df8-c16d-4e50-8820-f0ba33bf9d8d"
      },
      "execution_count": 12,
      "outputs": [
        {
          "output_type": "stream",
          "name": "stdout",
          "text": [
            "(1262, 150, 150) (1262, 3)\n",
            "(316, 150, 150) (316, 3)\n"
          ]
        }
      ]
    },
    {
      "cell_type": "markdown",
      "source": [
        "#6. Developing a model that does better than a baseline"
      ],
      "metadata": {
        "id": "0eaddCKoLWPH"
      }
    },
    {
      "cell_type": "code",
      "source": [
        "# get maximum value of y_train set & estimate class weights of unbalanced dataset\n",
        "labels = np.argmax(y_train, axis=1)\n",
        "weights = compute_class_weight('balanced', classes=np.unique(labels), y=labels)\n",
        "CLASS_WEIGHT = dict(enumerate(weights))\n",
        "\n",
        "CLASS_WEIGHT"
      ],
      "metadata": {
        "id": "JoaDbTavF94m",
        "colab": {
          "base_uri": "https://localhost:8080/"
        },
        "outputId": "70da5fde-0d77-4a8a-f362-d752330bc721"
      },
      "execution_count": 13,
      "outputs": [
        {
          "output_type": "execute_result",
          "data": {
            "text/plain": [
              "{0: 0.5908239700374532, 1: 1.248269040553907, 2: 1.9749608763693272}"
            ]
          },
          "metadata": {},
          "execution_count": 13
        }
      ]
    },
    {
      "cell_type": "markdown",
      "source": [
        "This method above will solve the imbalanced data problem using the compute_class_weight method to estimate the class weights. The classes are in the sequence: normal, malignant and benign. The normal class has a value of 0.583, malignant with 1.302 and 1.931 for benign tumours. The benign class has the highest class weights and this means that it has the highest influence out of the other classes when training and more benign samples could be included to have a balanced data."
      ],
      "metadata": {
        "id": "pS_dw5az-FoI"
      }
    },
    {
      "cell_type": "code",
      "source": [
        "# INPUT_DIMENSION = X_train.shape\n",
        "OUTPUT_CLASSES = y_train.shape[1]\n",
        "\n",
        "OPTIMIZER = 'adam'\n",
        "LOSS_FUNC = 'categorical_crossentropy'\n",
        "METRICS = ['categorical_accuracy',\n",
        "          tf.keras.metrics.AUC(name= 'auc', multi_label=True)]\n",
        "\n",
        "\n",
        "EARLY_STOP = EarlyStopping(monitor='val_loss', restore_best_weights=True, patience=5, verbose=0)\n",
        "\n",
        "# print(INPUT_DIMENSION)\n",
        "print(OUTPUT_CLASSES)"
      ],
      "metadata": {
        "id": "tip8btzmqWXj",
        "colab": {
          "base_uri": "https://localhost:8080/"
        },
        "outputId": "b39e49cf-4006-4fba-8b21-d65bcdad7009"
      },
      "execution_count": 14,
      "outputs": [
        {
          "output_type": "stream",
          "name": "stdout",
          "text": [
            "3\n"
          ]
        }
      ]
    },
    {
      "cell_type": "code",
      "source": [
        "# baseline model\n",
        "def resnet():\n",
        "\n",
        "    model = Sequential()\n",
        "\n",
        "    model.add(Flatten())\n",
        "    # model.add(Dense(256,activation='relu'))\n",
        "    # model.add(Dropout(0.5))\n",
        "    # model.add(Dense(128,activation='relu'))\n",
        "    # model.add(Dropout(0.5))\n",
        "    # model.add(Dense(64,activation='softmax', input_shape = X_train.shape))\n",
        "    # model.add(Dropout(0.5))\n",
        "    model.add(Dense(OUTPUT_CLASSES,activation='softmax', input_shape = X_train.shape))\n",
        "\n",
        "    model.compile(optimizer='adam',loss='categorical_crossentropy', metrics= ['acc'])\n",
        "\n",
        "    return model"
      ],
      "metadata": {
        "id": "L1yuj0cuqWdC"
      },
      "execution_count": 15,
      "outputs": []
    },
    {
      "cell_type": "code",
      "source": [
        "# model.build(X_train.shape)\n",
        "# model.summary()"
      ],
      "metadata": {
        "id": "IO_-6s9bbx75"
      },
      "execution_count": 16,
      "outputs": []
    },
    {
      "cell_type": "code",
      "source": [
        "batch_size = 520\n",
        "EPOCHS = 10\n",
        "\n",
        "EARLY_STOP = EarlyStopping(monitor='val_loss', restore_best_weights=True, patience= 5, verbose=0)"
      ],
      "metadata": {
        "id": "oPwAUFVyqWg5"
      },
      "execution_count": 17,
      "outputs": []
    },
    {
      "cell_type": "code",
      "source": [
        "model = resnet()\n",
        "\n",
        "X_train,X_val,y_train,y_val = train_test_split(X_train,y_train,test_size=0.1,random_state=42,stratify = labels)\n",
        "\n",
        "history = model.fit(X_train, y_train,\n",
        "          class_weight=CLASS_WEIGHT,\n",
        "          batch_size=batch_size, epochs=EPOCHS,\n",
        "          validation_data=(X_val, y_val),\n",
        "          callbacks=[EARLY_STOP],\n",
        "          verbose=0)"
      ],
      "metadata": {
        "id": "hegcI9iOaSNv"
      },
      "execution_count": 18,
      "outputs": []
    },
    {
      "cell_type": "markdown",
      "source": [
        "# 6.1 Training baseline model"
      ],
      "metadata": {
        "id": "0bOqkwDcHVzN"
      }
    },
    {
      "cell_type": "code",
      "source": [
        "from sklearn.metrics import f1_score,roc_auc_score\n",
        "def evaluation(model,X_train,y_train,X_val,y_val,X_test,y_test,history):\n",
        "    train_loss , train_acc = model.evaluate(X_train,y_train)\n",
        "    val_loss, val_acc = model.evaluate(X_val,y_val)\n",
        "    test_loss_value , test_accuracy = model.evaluate(X_test, y_test)\n",
        "    y_pred = model.predict(X_test)\n",
        "    y_pred_label = np.argmax(y_pred,axis=1)\n",
        "    y_true_label = np.argmax(y_test,axis=1)\n",
        "    f1_measure = f1_score(y_true_label,y_pred_label,average='weighted')\n",
        "    roc_score = roc_auc_score(y_test,y_pred)\n",
        "\n",
        "    print(\"Train accuracy = \"+str(train_acc))\n",
        "    print(\"Validation accuracy = \"+str(val_acc))\n",
        "    print('Test accuracy = ' + str(test_accuracy))\n",
        "    print(\"f1_measure = \"+str(f1_measure))\n",
        "    print(\"roc_area = \"+str(roc_score))\n"
      ],
      "metadata": {
        "id": "kGHUBFUtGXWc"
      },
      "execution_count": 19,
      "outputs": []
    },
    {
      "cell_type": "code",
      "source": [
        "def Train_Val_Plot(acc,val_acc,loss,val_loss):\n",
        "\n",
        "    fig, (ax1, ax2) = plt.subplots(1,2, figsize= (15,10))\n",
        "    fig.suptitle(\" MODEL'S METRICS VISUALIZATION \")\n",
        "\n",
        "    ax1.plot(range(1, len(acc) + 1), acc)\n",
        "    ax1.plot(range(1, len(val_acc) + 1), val_acc)\n",
        "    ax1.set_title('History of Accuracy')\n",
        "    ax1.set_xlabel('Epochs')\n",
        "    ax1.set_ylabel('Accuracy')\n",
        "    ax1.legend(['training', 'validation'])\n",
        "\n",
        "\n",
        "    ax2.plot(range(1, len(loss) + 1), loss)\n",
        "    ax2.plot(range(1, len(val_loss) + 1), val_loss)\n",
        "    ax2.set_title('History of Loss')\n",
        "    ax2.set_xlabel('Epochs')\n",
        "    ax2.set_ylabel('Loss')\n",
        "    ax2.legend(['training', 'validation'])\n",
        "    plt.show()"
      ],
      "metadata": {
        "id": "8AymYswCUrl9"
      },
      "execution_count": 20,
      "outputs": []
    },
    {
      "cell_type": "code",
      "source": [
        "def fit_evaluate(model,X_train,y_train,X_test,y_test,bs,Epochs,patience):\n",
        "    es = EarlyStopping(monitor='val_loss', mode='min', patience=patience,restore_best_weights=True, verbose=1)\n",
        "    # X1_train,X_val,y1_train,y_val = train_test_split(X_train,y_train,test_size=0.1,random_state=42,stratify = y_train)\n",
        "    history = model.fit(X_train,y_train,batch_size = bs,epochs=Epochs,validation_data = (X_val,y_val), callbacks=[es])\n",
        "    evaluation(model,X_train,y_train,X_val,y_val,X_test,y_test,history)\n",
        "    Train_Val_Plot(history.history['acc'],history.history['val_acc'],history.history['loss'],history.history['val_loss'])"
      ],
      "metadata": {
        "id": "EiAuIv4rN4kJ"
      },
      "execution_count": 21,
      "outputs": []
    },
    {
      "cell_type": "markdown",
      "source": [
        "#6.2 Plotting the training and validation loss"
      ],
      "metadata": {
        "id": "Ho5lKIixpn9h"
      }
    },
    {
      "cell_type": "code",
      "source": [
        "model = resnet()\n",
        "model.build(X_train.shape)\n",
        "model.summary()\n",
        "fit_evaluate(model,X_train,y_train,X_test,y_test,16,5,4)"
      ],
      "metadata": {
        "id": "523vUKOKF993",
        "colab": {
          "base_uri": "https://localhost:8080/",
          "height": 1000
        },
        "outputId": "a1a29b18-d7f0-45b4-df04-e0ba31426e46"
      },
      "execution_count": 22,
      "outputs": [
        {
          "output_type": "stream",
          "name": "stdout",
          "text": [
            "Model: \"sequential_1\"\n",
            "_________________________________________________________________\n",
            " Layer (type)                Output Shape              Param #   \n",
            "=================================================================\n",
            " flatten_1 (Flatten)         (1135, 22500)             0         \n",
            "                                                                 \n",
            " dense_1 (Dense)             (1135, 3)                 67503     \n",
            "                                                                 \n",
            "=================================================================\n",
            "Total params: 67,503\n",
            "Trainable params: 67,503\n",
            "Non-trainable params: 0\n",
            "_________________________________________________________________\n",
            "Epoch 1/5\n",
            "71/71 [==============================] - 1s 6ms/step - loss: 1.8520 - acc: 0.4291 - val_loss: 1.2233 - val_acc: 0.4094\n",
            "Epoch 2/5\n",
            "71/71 [==============================] - 0s 3ms/step - loss: 1.1680 - acc: 0.4916 - val_loss: 1.2749 - val_acc: 0.4016\n",
            "Epoch 3/5\n",
            "71/71 [==============================] - 0s 4ms/step - loss: 1.0675 - acc: 0.5084 - val_loss: 1.1203 - val_acc: 0.5276\n",
            "Epoch 4/5\n",
            "71/71 [==============================] - 0s 3ms/step - loss: 0.9240 - acc: 0.5692 - val_loss: 1.0128 - val_acc: 0.4882\n",
            "Epoch 5/5\n",
            "71/71 [==============================] - 0s 4ms/step - loss: 1.1021 - acc: 0.5463 - val_loss: 1.1857 - val_acc: 0.4646\n",
            "36/36 [==============================] - 0s 2ms/step - loss: 0.7982 - acc: 0.5965\n",
            "4/4 [==============================] - 0s 3ms/step - loss: 1.1857 - acc: 0.4646\n",
            "10/10 [==============================] - 0s 2ms/step - loss: 1.1980 - acc: 0.4684\n",
            "10/10 [==============================] - 0s 3ms/step\n",
            "Train accuracy = 0.5964757800102234\n",
            "Validation accuracy = 0.4645669162273407\n",
            "Test accuracy = 0.4683544337749481\n",
            "f1_measure = 0.474435727943285\n",
            "roc_area = 0.6604464209388222\n"
          ]
        },
        {
          "output_type": "display_data",
          "data": {
            "text/plain": [
              "<Figure size 1500x1000 with 2 Axes>"
            ],
            "image/png": "[encoded data removed]"
          },
          "metadata": {}
        }
      ]
    },
    {
      "cell_type": "markdown",
      "source": [
        "#7 Scaling up: developing a model that overfits"
      ],
      "metadata": {
        "id": "2ryUm1z3puPE"
      }
    },
    {
      "cell_type": "code",
      "source": [
        "# base_model = tf.keras.applications.ResNet50(\n",
        "#                 include_top=False,\n",
        "#                 weights=\"imagenet\",\n",
        "#                 input_tensor=None,\n",
        "#                 input_shape=imageShape,\n",
        "#                 pooling=None,\n",
        "#             )\n",
        "# for layer in base_model.layers:\n",
        "#     layer.trainable = False\n"
      ],
      "metadata": {
        "id": "x6Q77pN5yJzn"
      },
      "execution_count": 23,
      "outputs": []
    },
    {
      "cell_type": "code",
      "source": [
        "# overfit model\n",
        "def resnetOverfit():\n",
        "\n",
        "    model = Sequential()\n",
        "\n",
        "    model.add(Flatten())\n",
        "    model.add(Dense(128,activation='relu', input_shape = X_train.shape))\n",
        "    model.add(Dense(64,activation='relu'))\n",
        "    model.add(Dense(OUTPUT_CLASSES,activation='softmax'))\n",
        "\n",
        "    model.compile(optimizer='adam',loss='categorical_crossentropy', metrics=['acc'])\n",
        "\n",
        "    return model"
      ],
      "metadata": {
        "id": "rxUWdPHbp7sK"
      },
      "execution_count": 24,
      "outputs": []
    },
    {
      "cell_type": "code",
      "source": [
        "model = resnetOverfit()\n",
        "model.build(X_train.shape)\n",
        "model.summary()\n",
        "fit_evaluate(model,X_train,y_train,X_test,y_test,16,20,4)"
      ],
      "metadata": {
        "id": "2AnFKKouNpT6",
        "colab": {
          "base_uri": "https://localhost:8080/",
          "height": 1000
        },
        "outputId": "ad218947-6ee5-4fb9-c898-7075e38e7fc6"
      },
      "execution_count": 25,
      "outputs": [
        {
          "output_type": "stream",
          "name": "stdout",
          "text": [
            "Model: \"sequential_2\"\n",
            "_________________________________________________________________\n",
            " Layer (type)                Output Shape              Param #   \n",
            "=================================================================\n",
            " flatten_2 (Flatten)         (1135, 22500)             0         \n",
            "                                                                 \n",
            " dense_2 (Dense)             (1135, 128)               2880128   \n",
            "                                                                 \n",
            " dense_3 (Dense)             (1135, 64)                8256      \n",
            "                                                                 \n",
            " dense_4 (Dense)             (1135, 3)                 195       \n",
            "                                                                 \n",
            "=================================================================\n",
            "Total params: 2,888,579\n",
            "Trainable params: 2,888,579\n",
            "Non-trainable params: 0\n",
            "_________________________________________________________________\n",
            "Epoch 1/20\n",
            "71/71 [==============================] - 2s 24ms/step - loss: 1.4246 - acc: 0.5163 - val_loss: 1.0280 - val_acc: 0.5748\n",
            "Epoch 2/20\n",
            "71/71 [==============================] - 2s 27ms/step - loss: 0.9793 - acc: 0.6731 - val_loss: 1.0121 - val_acc: 0.5591\n",
            "Epoch 3/20\n",
            "71/71 [==============================] - 2s 22ms/step - loss: 0.7316 - acc: 0.7225 - val_loss: 0.9321 - val_acc: 0.6929\n",
            "Epoch 4/20\n",
            "71/71 [==============================] - 1s 19ms/step - loss: 0.6327 - acc: 0.7533 - val_loss: 0.8935 - val_acc: 0.5748\n",
            "Epoch 5/20\n",
            "71/71 [==============================] - 1s 19ms/step - loss: 0.5806 - acc: 0.7621 - val_loss: 0.7242 - val_acc: 0.6693\n",
            "Epoch 6/20\n",
            "71/71 [==============================] - 1s 19ms/step - loss: 0.4881 - acc: 0.7903 - val_loss: 0.7286 - val_acc: 0.6850\n",
            "Epoch 7/20\n",
            "71/71 [==============================] - 1s 19ms/step - loss: 0.4566 - acc: 0.8211 - val_loss: 0.7295 - val_acc: 0.6535\n",
            "Epoch 8/20\n",
            "71/71 [==============================] - 1s 19ms/step - loss: 0.4774 - acc: 0.8159 - val_loss: 0.7673 - val_acc: 0.6929\n",
            "Epoch 9/20\n",
            "70/71 [============================>.] - ETA: 0s - loss: 0.4768 - acc: 0.8232Restoring model weights from the end of the best epoch: 5.\n",
            "71/71 [==============================] - 2s 22ms/step - loss: 0.4766 - acc: 0.8220 - val_loss: 0.7547 - val_acc: 0.6929\n",
            "Epoch 9: early stopping\n",
            "36/36 [==============================] - 0s 6ms/step - loss: 0.4470 - acc: 0.8044\n",
            "4/4 [==============================] - 0s 8ms/step - loss: 0.7242 - acc: 0.6693\n",
            "10/10 [==============================] - 0s 6ms/step - loss: 0.6750 - acc: 0.7120\n",
            "10/10 [==============================] - 0s 6ms/step\n",
            "Train accuracy = 0.8044052720069885\n",
            "Validation accuracy = 0.6692913174629211\n",
            "Test accuracy = 0.7120253443717957\n",
            "f1_measure = 0.7046732157430694\n",
            "roc_area = 0.8436030071505064\n"
          ]
        },
        {
          "output_type": "display_data",
          "data": {
            "text/plain": [
              "<Figure size 1500x1000 with 2 Axes>"
            ],
            "image/png": "[encoded data removed]"
          },
          "metadata": {}
        }
      ]
    },
    {
      "cell_type": "markdown",
      "source": [
        "#8. Regularising your model and tuning your hyperparameters"
      ],
      "metadata": {
        "id": "PP07_LweybYV"
      }
    },
    {
      "cell_type": "markdown",
      "source": [
        "# 8.1 Adding dropout to 'deep model 1'"
      ],
      "metadata": {
        "id": "GZamXLS8ex69"
      }
    },
    {
      "cell_type": "markdown",
      "source": [
        "To regularise a model and tuning of hyperparameters, I would need to add dropout, add more layers and add L2 regularisation. Adding a dropout layer will set input units to zero with a frequency of rate at each step during training time to prevent overfitting.(Keras, no date)"
      ],
      "metadata": {
        "id": "_dcE9P_fe7fD"
      }
    },
    {
      "cell_type": "code",
      "source": [
        "# deep model\n",
        "def deepResnet():\n",
        "\n",
        "    model = Sequential()\n",
        "\n",
        "    model.add(Flatten())\n",
        "    model.add(Dense(64,activation='relu', input_shape = X_train.shape))\n",
        "    model.add(Dropout(0.5))\n",
        "    model.add(Dense(OUTPUT_CLASSES,activation='softmax'))\n",
        "\n",
        "    model.compile(optimizer='adam',loss='categorical_crossentropy', metrics=['acc'])\n",
        "    return model"
      ],
      "metadata": {
        "id": "kpjJ7yRzNxE0"
      },
      "execution_count": 26,
      "outputs": []
    },
    {
      "cell_type": "code",
      "source": [
        "model = deepResnet()\n",
        "model.build(X_train.shape)\n",
        "model.summary()"
      ],
      "metadata": {
        "id": "1orI1-GSl7mR",
        "colab": {
          "base_uri": "https://localhost:8080/"
        },
        "outputId": "ff3dcf41-93ad-474e-c1ff-745841de8a6a"
      },
      "execution_count": 27,
      "outputs": [
        {
          "output_type": "stream",
          "name": "stdout",
          "text": [
            "Model: \"sequential_3\"\n",
            "_________________________________________________________________\n",
            " Layer (type)                Output Shape              Param #   \n",
            "=================================================================\n",
            " flatten_3 (Flatten)         (1135, 22500)             0         \n",
            "                                                                 \n",
            " dense_5 (Dense)             (1135, 64)                1440064   \n",
            "                                                                 \n",
            " dropout (Dropout)           (1135, 64)                0         \n",
            "                                                                 \n",
            " dense_6 (Dense)             (1135, 3)                 195       \n",
            "                                                                 \n",
            "=================================================================\n",
            "Total params: 1,440,259\n",
            "Trainable params: 1,440,259\n",
            "Non-trainable params: 0\n",
            "_________________________________________________________________\n"
          ]
        }
      ]
    },
    {
      "cell_type": "code",
      "source": [
        "# deep = Sequential(\n",
        "#     [\n",
        "#         Flatten(),\n",
        "#         Dense(64, activation='relu', input_shape=X_train.shape),\n",
        "#         Dropout(0.5),\n",
        "#         Dense(OUTPUT_CLASSES,activation='softmax')\n",
        "#     ]\n",
        "\n",
        "# )"
      ],
      "metadata": {
        "id": "kYiGj9FRE314"
      },
      "execution_count": 28,
      "outputs": []
    },
    {
      "cell_type": "markdown",
      "source": [
        "#8.1 Adding more units to make the model wider"
      ],
      "metadata": {
        "id": "K7GM8tbtnMjT"
      }
    },
    {
      "cell_type": "code",
      "source": [
        "# wider model\n",
        "def widerResnet():\n",
        "\n",
        "    model = Sequential()\n",
        "\n",
        "    model.add(Flatten())\n",
        "    model.add(Dense(128,activation='relu', input_shape = X_train.shape))\n",
        "    model.add(Dropout(0.5))\n",
        "    model.add(Dense(OUTPUT_CLASSES,activation='softmax'))\n",
        "\n",
        "    model.compile(optimizer='adam',loss='categorical_crossentropy', metrics=['acc'])\n",
        "\n",
        "    return model"
      ],
      "metadata": {
        "id": "Umn_1-kdmMoQ"
      },
      "execution_count": 29,
      "outputs": []
    },
    {
      "cell_type": "code",
      "source": [
        "# wider = Sequential(\n",
        "#     [\n",
        "#         Flatten(),\n",
        "#         Dense(128, activation='relu', input_shape=X_train.shape),\n",
        "#         Dropout(0.5),\n",
        "#         Dense(OUTPUT_CLASSES, activation='softmax')\n",
        "#     ]\n",
        "# )"
      ],
      "metadata": {
        "id": "S_6WbJwlEt_X"
      },
      "execution_count": 30,
      "outputs": []
    },
    {
      "cell_type": "code",
      "source": [
        "model = widerResnet()\n",
        "model.build(X_train.shape)\n",
        "model.summary()"
      ],
      "metadata": {
        "id": "6wjZvlHzoNFI",
        "colab": {
          "base_uri": "https://localhost:8080/"
        },
        "outputId": "06bf8a6a-4403-482a-8b0f-a9dfc4c50276"
      },
      "execution_count": 31,
      "outputs": [
        {
          "output_type": "stream",
          "name": "stdout",
          "text": [
            "Model: \"sequential_4\"\n",
            "_________________________________________________________________\n",
            " Layer (type)                Output Shape              Param #   \n",
            "=================================================================\n",
            " flatten_4 (Flatten)         (1135, 22500)             0         \n",
            "                                                                 \n",
            " dense_7 (Dense)             (1135, 128)               2880128   \n",
            "                                                                 \n",
            " dropout_1 (Dropout)         (1135, 128)               0         \n",
            "                                                                 \n",
            " dense_8 (Dense)             (1135, 3)                 387       \n",
            "                                                                 \n",
            "=================================================================\n",
            "Total params: 2,880,515\n",
            "Trainable params: 2,880,515\n",
            "Non-trainable params: 0\n",
            "_________________________________________________________________\n"
          ]
        }
      ]
    },
    {
      "cell_type": "markdown",
      "source": [
        "#8.2 Adding three dense layers of 64 units and two dropout layers of 0.5 dropout rate"
      ],
      "metadata": {
        "id": "Jawos3M32vmB"
      }
    },
    {
      "cell_type": "code",
      "source": [
        "# deeper model\n",
        "def deeperResnet():\n",
        "\n",
        "    model = Sequential()\n",
        "\n",
        "    model.add(Flatten())\n",
        "    model.add(Dense(64,activation='relu', input_shape = X_train.shape))\n",
        "    model.add(Dropout(0.5))\n",
        "    model.add(Dense(64,activation='relu'))\n",
        "    model.add(Dropout(0.5))\n",
        "    model.add(Dense(OUTPUT_CLASSES,activation='softmax'))\n",
        "\n",
        "    model.compile(optimizer='adam',loss='categorical_crossentropy', metrics=['acc'])\n",
        "    print(model)\n",
        "    return model"
      ],
      "metadata": {
        "id": "GzfYt8r4oYMX"
      },
      "execution_count": 32,
      "outputs": []
    },
    {
      "cell_type": "markdown",
      "source": [
        "#8.3 Adding a ResNet pretrained model to baseline model"
      ],
      "metadata": {
        "id": "lefAwYRG3CTh"
      }
    },
    {
      "cell_type": "code",
      "source": [
        "pretrainedResnet = tf.keras.applications.ResNet50(\n",
        "    include_top = False,\n",
        "    weights = 'imagenet',\n",
        "    input_tensor=None,\n",
        "    input_shape=(150,150,3),\n",
        "    pooling=None,\n",
        "    classifier_activation=None\n",
        ")\n",
        "\n"
      ],
      "metadata": {
        "id": "x75uo3jH3Bzc"
      },
      "execution_count": 43,
      "outputs": []
    },
    {
      "cell_type": "code",
      "source": [
        "# pretrained resnet model + deep model\n",
        "def pretrainedResnet():\n",
        "\n",
        "    model = Sequential()\n",
        "    model.add(pretrainedResnet)\n",
        "\n",
        "    model.add(Flatten())\n",
        "    model.add(Dense(64,activation='relu', input_shape = X_train.shape))\n",
        "    model.add(Dropout(0.5))\n",
        "    model.add(Dense(OUTPUT_CLASSES,activation='softmax'))\n",
        "\n",
        "    model.compile(optimizer='adam',loss='categorical_crossentropy', metrics=['acc'])\n",
        "    return model"
      ],
      "metadata": {
        "id": "f4Vn7ehi31JZ"
      },
      "execution_count": 45,
      "outputs": []
    },
    {
      "cell_type": "markdown",
      "source": [
        "#8.4 Cross Validation"
      ],
      "metadata": {
        "id": "jDjOQbVLoxIt"
      }
    },
    {
      "cell_type": "markdown",
      "source": [
        "##8.4.1 K-fold Validation (deepModel)\n",
        "\n"
      ],
      "metadata": {
        "id": "YWE-64jOhHPt"
      }
    },
    {
      "cell_type": "code",
      "source": [
        "k=5\n",
        "num_val_samples = len(y_train) // k\n",
        "num_epochs = 20\n",
        "deepModelScore = []\n",
        "\n",
        "for i in range(k):\n",
        "    print('processing fold #', i)\n",
        "\n",
        "    model = deepResnet()\n",
        "    history = model.fit(X_train, y_train,\n",
        "    epochs=num_epochs, batch_size=1, verbose=0)\n",
        "\n",
        "    val_mse, val_mae = model.evaluate(X_val, y_val, verbose=0)\n",
        "    deepModelScore.append(val_mae)"
      ],
      "metadata": {
        "id": "t9M6sGbkgfpM",
        "colab": {
          "base_uri": "https://localhost:8080/"
        },
        "outputId": "56595701-4990-4e07-fcd6-7f80a768d2d9"
      },
      "execution_count": 34,
      "outputs": [
        {
          "output_type": "stream",
          "name": "stdout",
          "text": [
            "processing fold # 0\n",
            "processing fold # 1\n",
            "processing fold # 2\n",
            "processing fold # 3\n"
          ]
        }
      ]
    },
    {
      "cell_type": "code",
      "source": [
        "deepModelScore"
      ],
      "metadata": {
        "id": "Llvlvt5HgXCe",
        "colab": {
          "base_uri": "https://localhost:8080/"
        },
        "outputId": "a506f038-caaf-4198-bc2e-b0539846255a"
      },
      "execution_count": 35,
      "outputs": [
        {
          "output_type": "execute_result",
          "data": {
            "text/plain": [
              "[0.6535432934761047,\n",
              " 0.6299212574958801,\n",
              " 0.6614173054695129,\n",
              " 0.6929134130477905]"
            ]
          },
          "metadata": {},
          "execution_count": 35
        }
      ]
    },
    {
      "cell_type": "markdown",
      "source": [
        "##8.4.2 Saving validation logs at each fold (deepModel)"
      ],
      "metadata": {
        "id": "3Ev0oRJgg7vE"
      }
    },
    {
      "cell_type": "code",
      "source": [
        "k=5\n",
        "num_val_samples = len(y_train) // k\n",
        "num_epochs = 25\n",
        "all_mae_histories = []\n",
        "\n",
        "for i in range(k):\n",
        "    print('processing fold #', i)\n",
        "    model = deeperResnet()\n",
        "    model.compile(optimizer='adam',loss='categorical_crossentropy', metrics=['mean_absolute_error'])\n",
        "    history = model.fit(X_train, y_train,validation_data=(X_val,y_val),\n",
        "    epochs=num_epochs, batch_size=1, verbose=0)\n",
        "\n",
        "    mae_history = history.history['val_mean_absolute_error']\n",
        "    all_mae_histories.append(mae_history)"
      ],
      "metadata": {
        "colab": {
          "base_uri": "https://localhost:8080/"
        },
        "id": "sxTqtUmcnJiv",
        "outputId": "4a1f3937-8210-436b-dc78-e7fdd9494156"
      },
      "execution_count": 36,
      "outputs": [
        {
          "output_type": "stream",
          "name": "stdout",
          "text": [
            "processing fold # 0\n",
            "<keras.engine.sequential.Sequential object at 0x7f908a13d720>\n",
            "processing fold # 1\n",
            "<keras.engine.sequential.Sequential object at 0x7f908a0e3cd0>\n",
            "processing fold # 2\n",
            "<keras.engine.sequential.Sequential object at 0x7f908a1a5090>\n",
            "processing fold # 3\n",
            "<keras.engine.sequential.Sequential object at 0x7f9089c24a90>\n"
          ]
        }
      ]
    },
    {
      "cell_type": "code",
      "source": [
        "deep_average_mae_history = [np.mean([x[i] for x in all_mae_histories]) for i in range(num_epochs)]\n",
        "deep_average_mae_history"
      ],
      "metadata": {
        "colab": {
          "base_uri": "https://localhost:8080/"
        },
        "id": "cXny7zKj4tZ-",
        "outputId": "ff85a387-46a5-42fb-bc2f-979f4a7ad1a7"
      },
      "execution_count": 37,
      "outputs": [
        {
          "output_type": "execute_result",
          "data": {
            "text/plain": [
              "[0.37320028245449066,\n",
              " 0.3519243597984314,\n",
              " 0.3275470584630966,\n",
              " 0.32352516800165176,\n",
              " 0.3144707530736923,\n",
              " 0.30123767256736755,\n",
              " 0.3086904138326645,\n",
              " 0.29864010214805603,\n",
              " 0.30409058928489685,\n",
              " 0.30575191229581833,\n",
              " 0.3062542527914047,\n",
              " 0.29769814759492874,\n",
              " 0.3042217940092087,\n",
              " 0.3027839884161949,\n",
              " 0.29674673825502396,\n",
              " 0.29633769392967224,\n",
              " 0.2954186573624611,\n",
              " 0.29293882846832275,\n",
              " 0.30195412784814835,\n",
              " 0.29303334653377533,\n",
              " 0.2928835302591324,\n",
              " 0.28774256259202957,\n",
              " 0.2925310805439949,\n",
              " 0.29488155990839005,\n",
              " 0.2908494174480438]"
            ]
          },
          "metadata": {},
          "execution_count": 37
        }
      ]
    },
    {
      "cell_type": "markdown",
      "source": [
        "##8.4.3 K-fold Validation (deeperModel)"
      ],
      "metadata": {
        "id": "nmebrCgjhUVK"
      }
    },
    {
      "cell_type": "code",
      "source": [
        "k=5\n",
        "num_val_samples = len(y_train) // k\n",
        "num_epochs = 20\n",
        "deeperModelScore = []\n",
        "\n",
        "for i in range(k):\n",
        "    print('processing fold #', i)\n",
        "\n",
        "    model = deeperResnet()\n",
        "    history = model.fit(X_train, y_train,\n",
        "    epochs=num_epochs, batch_size=1, verbose=0)\n",
        "\n",
        "    val_mse, val_mae = model.evaluate(X_val, y_val, verbose=0)\n",
        "    deeperModelScore.append(val_mae)"
      ],
      "metadata": {
        "colab": {
          "base_uri": "https://localhost:8080/",
          "height": 425
        },
        "id": "0NwIRR4PvCLb",
        "outputId": "34718945-f2b8-4d29-c791-242bcba2646f"
      },
      "execution_count": 38,
      "outputs": [
        {
          "output_type": "stream",
          "name": "stdout",
          "text": [
            "processing fold # 0\n",
            "<keras.engine.sequential.Sequential object at 0x7f908a75d420>\n"
          ]
        },
        {
          "output_type": "error",
          "ename": "KeyboardInterrupt",
          "evalue": "ignored",
          "traceback": [
            "\u001b[0;31m---------------------------------------------------------------------------\u001b[0m",
            "\u001b[0;31mKeyboardInterrupt\u001b[0m                         Traceback (most recent call last)",
            "\u001b[0;32m<ipython-input-38-c9cf36244ab6>\u001b[0m in \u001b[0;36m<cell line: 6>\u001b[0;34m()\u001b[0m\n\u001b[1;32m      8\u001b[0m \u001b[0;34m\u001b[0m\u001b[0m\n\u001b[1;32m      9\u001b[0m     \u001b[0mmodel\u001b[0m \u001b[0;34m=\u001b[0m \u001b[0mdeeperResnet\u001b[0m\u001b[0;34m(\u001b[0m\u001b[0;34m)\u001b[0m\u001b[0;34m\u001b[0m\u001b[0;34m\u001b[0m\u001b[0m\n\u001b[0;32m---> 10\u001b[0;31m     history = model.fit(X_train, y_train,\n\u001b[0m\u001b[1;32m     11\u001b[0m     epochs=num_epochs, batch_size=1, verbose=0)\n\u001b[1;32m     12\u001b[0m \u001b[0;34m\u001b[0m\u001b[0m\n",
            "\u001b[0;32m/usr/local/lib/python3.10/dist-packages/keras/utils/traceback_utils.py\u001b[0m in \u001b[0;36merror_handler\u001b[0;34m(*args, **kwargs)\u001b[0m\n\u001b[1;32m     63\u001b[0m         \u001b[0mfiltered_tb\u001b[0m \u001b[0;34m=\u001b[0m \u001b[0;32mNone\u001b[0m\u001b[0;34m\u001b[0m\u001b[0;34m\u001b[0m\u001b[0m\n\u001b[1;32m     64\u001b[0m         \u001b[0;32mtry\u001b[0m\u001b[0;34m:\u001b[0m\u001b[0;34m\u001b[0m\u001b[0;34m\u001b[0m\u001b[0m\n\u001b[0;32m---> 65\u001b[0;31m             \u001b[0;32mreturn\u001b[0m \u001b[0mfn\u001b[0m\u001b[0;34m(\u001b[0m\u001b[0;34m*\u001b[0m\u001b[0margs\u001b[0m\u001b[0;34m,\u001b[0m \u001b[0;34m**\u001b[0m\u001b[0mkwargs\u001b[0m\u001b[0;34m)\u001b[0m\u001b[0;34m\u001b[0m\u001b[0;34m\u001b[0m\u001b[0m\n\u001b[0m\u001b[1;32m     66\u001b[0m         \u001b[0;32mexcept\u001b[0m \u001b[0mException\u001b[0m \u001b[0;32mas\u001b[0m \u001b[0me\u001b[0m\u001b[0;34m:\u001b[0m\u001b[0;34m\u001b[0m\u001b[0;34m\u001b[0m\u001b[0m\n\u001b[1;32m     67\u001b[0m             \u001b[0mfiltered_tb\u001b[0m \u001b[0;34m=\u001b[0m \u001b[0m_process_traceback_frames\u001b[0m\u001b[0;34m(\u001b[0m\u001b[0me\u001b[0m\u001b[0;34m.\u001b[0m\u001b[0m__traceback__\u001b[0m\u001b[0;34m)\u001b[0m\u001b[0;34m\u001b[0m\u001b[0;34m\u001b[0m\u001b[0m\n",
            "\u001b[0;32m/usr/local/lib/python3.10/dist-packages/keras/engine/training.py\u001b[0m in \u001b[0;36mfit\u001b[0;34m(self, x, y, batch_size, epochs, verbose, callbacks, validation_split, validation_data, shuffle, class_weight, sample_weight, initial_epoch, steps_per_epoch, validation_steps, validation_batch_size, validation_freq, max_queue_size, workers, use_multiprocessing)\u001b[0m\n\u001b[1;32m   1683\u001b[0m                         ):\n\u001b[1;32m   1684\u001b[0m                             \u001b[0mcallbacks\u001b[0m\u001b[0;34m.\u001b[0m\u001b[0mon_train_batch_begin\u001b[0m\u001b[0;34m(\u001b[0m\u001b[0mstep\u001b[0m\u001b[0;34m)\u001b[0m\u001b[0;34m\u001b[0m\u001b[0;34m\u001b[0m\u001b[0m\n\u001b[0;32m-> 1685\u001b[0;31m                             \u001b[0mtmp_logs\u001b[0m \u001b[0;34m=\u001b[0m \u001b[0mself\u001b[0m\u001b[0;34m.\u001b[0m\u001b[0mtrain_function\u001b[0m\u001b[0;34m(\u001b[0m\u001b[0miterator\u001b[0m\u001b[0;34m)\u001b[0m\u001b[0;34m\u001b[0m\u001b[0;34m\u001b[0m\u001b[0m\n\u001b[0m\u001b[1;32m   1686\u001b[0m                             \u001b[0;32mif\u001b[0m \u001b[0mdata_handler\u001b[0m\u001b[0;34m.\u001b[0m\u001b[0mshould_sync\u001b[0m\u001b[0;34m:\u001b[0m\u001b[0;34m\u001b[0m\u001b[0;34m\u001b[0m\u001b[0m\n\u001b[1;32m   1687\u001b[0m                                 \u001b[0mcontext\u001b[0m\u001b[0;34m.\u001b[0m\u001b[0masync_wait\u001b[0m\u001b[0;34m(\u001b[0m\u001b[0;34m)\u001b[0m\u001b[0;34m\u001b[0m\u001b[0;34m\u001b[0m\u001b[0m\n",
            "\u001b[0;32m/usr/local/lib/python3.10/dist-packages/tensorflow/python/util/traceback_utils.py\u001b[0m in \u001b[0;36merror_handler\u001b[0;34m(*args, **kwargs)\u001b[0m\n\u001b[1;32m    148\u001b[0m     \u001b[0mfiltered_tb\u001b[0m \u001b[0;34m=\u001b[0m \u001b[0;32mNone\u001b[0m\u001b[0;34m\u001b[0m\u001b[0;34m\u001b[0m\u001b[0m\n\u001b[1;32m    149\u001b[0m     \u001b[0;32mtry\u001b[0m\u001b[0;34m:\u001b[0m\u001b[0;34m\u001b[0m\u001b[0;34m\u001b[0m\u001b[0m\n\u001b[0;32m--> 150\u001b[0;31m       \u001b[0;32mreturn\u001b[0m \u001b[0mfn\u001b[0m\u001b[0;34m(\u001b[0m\u001b[0;34m*\u001b[0m\u001b[0margs\u001b[0m\u001b[0;34m,\u001b[0m \u001b[0;34m**\u001b[0m\u001b[0mkwargs\u001b[0m\u001b[0;34m)\u001b[0m\u001b[0;34m\u001b[0m\u001b[0;34m\u001b[0m\u001b[0m\n\u001b[0m\u001b[1;32m    151\u001b[0m     \u001b[0;32mexcept\u001b[0m \u001b[0mException\u001b[0m \u001b[0;32mas\u001b[0m \u001b[0me\u001b[0m\u001b[0;34m:\u001b[0m\u001b[0;34m\u001b[0m\u001b[0;34m\u001b[0m\u001b[0m\n\u001b[1;32m    152\u001b[0m       \u001b[0mfiltered_tb\u001b[0m \u001b[0;34m=\u001b[0m \u001b[0m_process_traceback_frames\u001b[0m\u001b[0;34m(\u001b[0m\u001b[0me\u001b[0m\u001b[0;34m.\u001b[0m\u001b[0m__traceback__\u001b[0m\u001b[0;34m)\u001b[0m\u001b[0;34m\u001b[0m\u001b[0;34m\u001b[0m\u001b[0m\n",
            "\u001b[0;32m/usr/local/lib/python3.10/dist-packages/tensorflow/python/eager/polymorphic_function/polymorphic_function.py\u001b[0m in \u001b[0;36m__call__\u001b[0;34m(self, *args, **kwds)\u001b[0m\n\u001b[1;32m    892\u001b[0m \u001b[0;34m\u001b[0m\u001b[0m\n\u001b[1;32m    893\u001b[0m       \u001b[0;32mwith\u001b[0m \u001b[0mOptionalXlaContext\u001b[0m\u001b[0;34m(\u001b[0m\u001b[0mself\u001b[0m\u001b[0;34m.\u001b[0m\u001b[0m_jit_compile\u001b[0m\u001b[0;34m)\u001b[0m\u001b[0;34m:\u001b[0m\u001b[0;34m\u001b[0m\u001b[0;34m\u001b[0m\u001b[0m\n\u001b[0;32m--> 894\u001b[0;31m         \u001b[0mresult\u001b[0m \u001b[0;34m=\u001b[0m \u001b[0mself\u001b[0m\u001b[0;34m.\u001b[0m\u001b[0m_call\u001b[0m\u001b[0;34m(\u001b[0m\u001b[0;34m*\u001b[0m\u001b[0margs\u001b[0m\u001b[0;34m,\u001b[0m \u001b[0;34m**\u001b[0m\u001b[0mkwds\u001b[0m\u001b[0;34m)\u001b[0m\u001b[0;34m\u001b[0m\u001b[0;34m\u001b[0m\u001b[0m\n\u001b[0m\u001b[1;32m    895\u001b[0m \u001b[0;34m\u001b[0m\u001b[0m\n\u001b[1;32m    896\u001b[0m       \u001b[0mnew_tracing_count\u001b[0m \u001b[0;34m=\u001b[0m \u001b[0mself\u001b[0m\u001b[0;34m.\u001b[0m\u001b[0mexperimental_get_tracing_count\u001b[0m\u001b[0;34m(\u001b[0m\u001b[0;34m)\u001b[0m\u001b[0;34m\u001b[0m\u001b[0;34m\u001b[0m\u001b[0m\n",
            "\u001b[0;32m/usr/local/lib/python3.10/dist-packages/tensorflow/python/eager/polymorphic_function/polymorphic_function.py\u001b[0m in \u001b[0;36m_call\u001b[0;34m(self, *args, **kwds)\u001b[0m\n\u001b[1;32m    924\u001b[0m       \u001b[0;31m# In this case we have created variables on the first call, so we run the\u001b[0m\u001b[0;34m\u001b[0m\u001b[0;34m\u001b[0m\u001b[0m\n\u001b[1;32m    925\u001b[0m       \u001b[0;31m# defunned version which is guaranteed to never create variables.\u001b[0m\u001b[0;34m\u001b[0m\u001b[0;34m\u001b[0m\u001b[0m\n\u001b[0;32m--> 926\u001b[0;31m       \u001b[0;32mreturn\u001b[0m \u001b[0mself\u001b[0m\u001b[0;34m.\u001b[0m\u001b[0m_no_variable_creation_fn\u001b[0m\u001b[0;34m(\u001b[0m\u001b[0;34m*\u001b[0m\u001b[0margs\u001b[0m\u001b[0;34m,\u001b[0m \u001b[0;34m**\u001b[0m\u001b[0mkwds\u001b[0m\u001b[0;34m)\u001b[0m  \u001b[0;31m# pylint: disable=not-callable\u001b[0m\u001b[0;34m\u001b[0m\u001b[0;34m\u001b[0m\u001b[0m\n\u001b[0m\u001b[1;32m    927\u001b[0m     \u001b[0;32melif\u001b[0m \u001b[0mself\u001b[0m\u001b[0;34m.\u001b[0m\u001b[0m_variable_creation_fn\u001b[0m \u001b[0;32mis\u001b[0m \u001b[0;32mnot\u001b[0m \u001b[0;32mNone\u001b[0m\u001b[0;34m:\u001b[0m\u001b[0;34m\u001b[0m\u001b[0;34m\u001b[0m\u001b[0m\n\u001b[1;32m    928\u001b[0m       \u001b[0;31m# Release the lock early so that multiple threads can perform the call\u001b[0m\u001b[0;34m\u001b[0m\u001b[0;34m\u001b[0m\u001b[0m\n",
            "\u001b[0;32m/usr/local/lib/python3.10/dist-packages/tensorflow/python/eager/polymorphic_function/tracing_compiler.py\u001b[0m in \u001b[0;36m__call__\u001b[0;34m(self, *args, **kwargs)\u001b[0m\n\u001b[1;32m    141\u001b[0m       (concrete_function,\n\u001b[1;32m    142\u001b[0m        filtered_flat_args) = self._maybe_define_function(args, kwargs)\n\u001b[0;32m--> 143\u001b[0;31m     return concrete_function._call_flat(\n\u001b[0m\u001b[1;32m    144\u001b[0m         filtered_flat_args, captured_inputs=concrete_function.captured_inputs)  # pylint: disable=protected-access\n\u001b[1;32m    145\u001b[0m \u001b[0;34m\u001b[0m\u001b[0m\n",
            "\u001b[0;32m/usr/local/lib/python3.10/dist-packages/tensorflow/python/eager/polymorphic_function/monomorphic_function.py\u001b[0m in \u001b[0;36m_call_flat\u001b[0;34m(self, args, captured_inputs, cancellation_manager)\u001b[0m\n\u001b[1;32m   1755\u001b[0m         and executing_eagerly):\n\u001b[1;32m   1756\u001b[0m       \u001b[0;31m# No tape is watching; skip to running the function.\u001b[0m\u001b[0;34m\u001b[0m\u001b[0;34m\u001b[0m\u001b[0m\n\u001b[0;32m-> 1757\u001b[0;31m       return self._build_call_outputs(self._inference_function.call(\n\u001b[0m\u001b[1;32m   1758\u001b[0m           ctx, args, cancellation_manager=cancellation_manager))\n\u001b[1;32m   1759\u001b[0m     forward_backward = self._select_forward_and_backward_functions(\n",
            "\u001b[0;32m/usr/local/lib/python3.10/dist-packages/tensorflow/python/eager/polymorphic_function/monomorphic_function.py\u001b[0m in \u001b[0;36mcall\u001b[0;34m(self, ctx, args, cancellation_manager)\u001b[0m\n\u001b[1;32m    379\u001b[0m       \u001b[0;32mwith\u001b[0m \u001b[0m_InterpolateFunctionError\u001b[0m\u001b[0;34m(\u001b[0m\u001b[0mself\u001b[0m\u001b[0;34m)\u001b[0m\u001b[0;34m:\u001b[0m\u001b[0;34m\u001b[0m\u001b[0;34m\u001b[0m\u001b[0m\n\u001b[1;32m    380\u001b[0m         \u001b[0;32mif\u001b[0m \u001b[0mcancellation_manager\u001b[0m \u001b[0;32mis\u001b[0m \u001b[0;32mNone\u001b[0m\u001b[0;34m:\u001b[0m\u001b[0;34m\u001b[0m\u001b[0;34m\u001b[0m\u001b[0m\n\u001b[0;32m--> 381\u001b[0;31m           outputs = execute.execute(\n\u001b[0m\u001b[1;32m    382\u001b[0m               \u001b[0mstr\u001b[0m\u001b[0;34m(\u001b[0m\u001b[0mself\u001b[0m\u001b[0;34m.\u001b[0m\u001b[0msignature\u001b[0m\u001b[0;34m.\u001b[0m\u001b[0mname\u001b[0m\u001b[0;34m)\u001b[0m\u001b[0;34m,\u001b[0m\u001b[0;34m\u001b[0m\u001b[0;34m\u001b[0m\u001b[0m\n\u001b[1;32m    383\u001b[0m               \u001b[0mnum_outputs\u001b[0m\u001b[0;34m=\u001b[0m\u001b[0mself\u001b[0m\u001b[0;34m.\u001b[0m\u001b[0m_num_outputs\u001b[0m\u001b[0;34m,\u001b[0m\u001b[0;34m\u001b[0m\u001b[0;34m\u001b[0m\u001b[0m\n",
            "\u001b[0;32m/usr/local/lib/python3.10/dist-packages/tensorflow/python/eager/execute.py\u001b[0m in \u001b[0;36mquick_execute\u001b[0;34m(op_name, num_outputs, inputs, attrs, ctx, name)\u001b[0m\n\u001b[1;32m     50\u001b[0m   \u001b[0;32mtry\u001b[0m\u001b[0;34m:\u001b[0m\u001b[0;34m\u001b[0m\u001b[0;34m\u001b[0m\u001b[0m\n\u001b[1;32m     51\u001b[0m     \u001b[0mctx\u001b[0m\u001b[0;34m.\u001b[0m\u001b[0mensure_initialized\u001b[0m\u001b[0;34m(\u001b[0m\u001b[0;34m)\u001b[0m\u001b[0;34m\u001b[0m\u001b[0;34m\u001b[0m\u001b[0m\n\u001b[0;32m---> 52\u001b[0;31m     tensors = pywrap_tfe.TFE_Py_Execute(ctx._handle, device_name, op_name,\n\u001b[0m\u001b[1;32m     53\u001b[0m                                         inputs, attrs, num_outputs)\n\u001b[1;32m     54\u001b[0m   \u001b[0;32mexcept\u001b[0m \u001b[0mcore\u001b[0m\u001b[0;34m.\u001b[0m\u001b[0m_NotOkStatusException\u001b[0m \u001b[0;32mas\u001b[0m \u001b[0me\u001b[0m\u001b[0;34m:\u001b[0m\u001b[0;34m\u001b[0m\u001b[0;34m\u001b[0m\u001b[0m\n",
            "\u001b[0;31mKeyboardInterrupt\u001b[0m: "
          ]
        }
      ]
    },
    {
      "cell_type": "code",
      "source": [
        "deeperModelScore"
      ],
      "metadata": {
        "id": "pGOrTb1mvJYh"
      },
      "execution_count": null,
      "outputs": []
    },
    {
      "cell_type": "markdown",
      "source": [
        "##8.4.4 Saving validation logs at each fold (deeperModel)"
      ],
      "metadata": {
        "id": "Mu17fJgzhgrn"
      }
    },
    {
      "cell_type": "code",
      "source": [
        "k=5\n",
        "num_val_samples = len(y_train) // k\n",
        "num_epochs = 25\n",
        "all_mae_histories = []\n",
        "\n",
        "for i in range(k):\n",
        "    print('processing fold #', i)\n",
        "    model = deeperResnet()\n",
        "    model.compile(optimizer='adam',loss='categorical_crossentropy', metrics=['mean_absolute_error'])\n",
        "    history = model.fit(X_train, y_train,validation_data=(X_val,y_val),\n",
        "    epochs=num_epochs, batch_size=1, verbose=0)\n",
        "\n",
        "    mae_history = history.history['val_mean_absolute_error']\n",
        "    all_mae_histories.append(mae_history)"
      ],
      "metadata": {
        "id": "C28qBlY6vJcn"
      },
      "execution_count": null,
      "outputs": []
    },
    {
      "cell_type": "code",
      "source": [
        "deeper_average_mae_history = [np.mean([x[i] for x in all_mae_histories]) for i in range(num_epochs)]\n",
        "deeper_average_mae_history"
      ],
      "metadata": {
        "id": "ZpNtAcBOvQve"
      },
      "execution_count": null,
      "outputs": []
    },
    {
      "cell_type": "markdown",
      "source": [
        "##8.4.5 K-fold Validation (widerModel)"
      ],
      "metadata": {
        "id": "lwUw2xAajMNv"
      }
    },
    {
      "cell_type": "code",
      "source": [
        "k=5\n",
        "num_val_samples = len(y_train) // k\n",
        "num_epochs = 20\n",
        "widerModelScore = []\n",
        "\n",
        "for i in range(k):\n",
        "    print('processing fold #', i)\n",
        "\n",
        "    model = widerResnet()\n",
        "    history = model.fit(X_train, y_train,\n",
        "    epochs=num_epochs, batch_size=1, verbose=0)\n",
        "\n",
        "    val_mse, val_mae = model.evaluate(X_val, y_val, verbose=0)\n",
        "    widerModelScore.append(val_mae)"
      ],
      "metadata": {
        "id": "Kj2y_96ijUZJ"
      },
      "execution_count": null,
      "outputs": []
    },
    {
      "cell_type": "code",
      "source": [
        "widerModelScore"
      ],
      "metadata": {
        "id": "WKUqYHogjYNU"
      },
      "execution_count": null,
      "outputs": []
    },
    {
      "cell_type": "markdown",
      "source": [
        "##8.4.6 Saving validation logs at each fold (widerModel)"
      ],
      "metadata": {
        "id": "CuV9E9NcjcSP"
      }
    },
    {
      "cell_type": "code",
      "source": [
        "k=5\n",
        "num_val_samples = len(y_train) // k\n",
        "num_epochs = 25\n",
        "all_mae_histories = []\n",
        "\n",
        "for i in range(k):\n",
        "    print('processing fold #', i)\n",
        "    model = deeperResnet()\n",
        "    model.compile(optimizer='adam',loss='categorical_crossentropy', metrics=['mean_absolute_error'])\n",
        "    history = model.fit(X_train, y_train,validation_data=(X_val,y_val),\n",
        "    epochs=num_epochs, batch_size=1, verbose=0)\n",
        "\n",
        "    mae_history = history.history['val_mean_absolute_error']\n",
        "    all_mae_histories.append(mae_history)"
      ],
      "metadata": {
        "id": "Hn0wvw4Yjip5"
      },
      "execution_count": null,
      "outputs": []
    },
    {
      "cell_type": "code",
      "source": [
        "wider_average_mae_history = [np.mean([x[i] for x in all_mae_histories]) for i in range(num_epochs)]\n",
        "wider_average_mae_history"
      ],
      "metadata": {
        "id": "X6HPyKQDjw_7"
      },
      "execution_count": null,
      "outputs": []
    },
    {
      "cell_type": "markdown",
      "source": [
        "##8.4.7 K-fold Validation (pretrainedResnet)"
      ],
      "metadata": {
        "id": "Zx7WYR6248BE"
      }
    },
    {
      "cell_type": "code",
      "source": [
        "k=5\n",
        "num_val_samples = len(y_train) // k\n",
        "num_epochs = 20\n",
        "pretrainedResnetModelScore = []\n",
        "\n",
        "for i in range(k):\n",
        "    print('processing fold #', i)\n",
        "\n",
        "    model = pretrainedResnet()\n",
        "    history = model.fit(X_train, y_train,\n",
        "    epochs=num_epochs, batch_size=1, verbose=0)\n",
        "\n",
        "    val_mse, val_mae = model.evaluate(X_val, y_val, verbose=0)\n",
        "    pretrainedResnetModelScore.append(val_mae)"
      ],
      "metadata": {
        "id": "F3aKgHXK5Cd9"
      },
      "execution_count": null,
      "outputs": []
    },
    {
      "cell_type": "code",
      "source": [
        "pretrainedResnetModelScore"
      ],
      "metadata": {
        "id": "aK8LryOm5npw"
      },
      "execution_count": null,
      "outputs": []
    },
    {
      "cell_type": "markdown",
      "source": [
        "##8.4.8 Saving validation logs at each fold (pretrainedResnet)"
      ],
      "metadata": {
        "id": "P1pqkikO5RYn"
      }
    },
    {
      "cell_type": "code",
      "source": [
        "k=5\n",
        "num_val_samples = len(y_train) // k\n",
        "num_epochs = 25\n",
        "all_mae_histories = []\n",
        "\n",
        "for i in range(k):\n",
        "    print('processing fold #', i)\n",
        "    model = pretrainedResnet()\n",
        "    model.compile(optimizer='adam',loss='categorical_crossentropy', metrics=['mean_absolute_error'])\n",
        "    history = model.fit(X_train, y_train,validation_data=(X_val,y_val),\n",
        "    epochs=num_epochs, batch_size=1, verbose=0)\n",
        "\n",
        "    mae_history = history.history['val_mean_absolute_error']\n",
        "    all_mae_histories.append(mae_history)"
      ],
      "metadata": {
        "id": "wnxiH1Eg5ciL"
      },
      "execution_count": null,
      "outputs": []
    },
    {
      "cell_type": "code",
      "source": [
        "pretrainedResnet_average_mae_history = [np.mean([x[i] for x in all_mae_histories]) for i in range(num_epochs)]\n",
        "pretrainedResnet_average_mae_history"
      ],
      "metadata": {
        "id": "yfOYQVnR5qef"
      },
      "execution_count": null,
      "outputs": []
    }
  ]
}